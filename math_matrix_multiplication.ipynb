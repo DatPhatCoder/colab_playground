{
  "nbformat": 4,
  "nbformat_minor": 0,
  "metadata": {
    "colab": {
      "provenance": [],
      "authorship_tag": "ABX9TyMgb9Fj6nkliH91kPmS8of6",
      "include_colab_link": true
    },
    "kernelspec": {
      "name": "python3",
      "display_name": "Python 3"
    },
    "language_info": {
      "name": "python"
    }
  },
  "cells": [
    {
      "cell_type": "markdown",
      "metadata": {
        "id": "view-in-github",
        "colab_type": "text"
      },
      "source": [
        "<a href=\"https://colab.research.google.com/github/DatPhatCoder/colab_playground/blob/main/math_matrix_multiplication.ipynb\" target=\"_parent\"><img src=\"https://colab.research.google.com/assets/colab-badge.svg\" alt=\"Open In Colab\"/></a>"
      ]
    },
    {
      "cell_type": "code",
      "execution_count": 1,
      "metadata": {
        "id": "0U07R_ehkkcX"
      },
      "outputs": [],
      "source": [
        "#import libraries\n",
        "import numpy as np\n",
        "import torch"
      ]
    },
    {
      "cell_type": "code",
      "source": [
        "#create some random matrices\n",
        "A = np.random.randn(3,4)\n",
        "B = np.random.randn(4,5)\n",
        "C = np.random.randn(3,7)\n",
        "C2 = torch.tensor(C, dtype=torch.float)\n",
        "\n",
        "#try some multiplications - note @ sign does matrix multiplication\n",
        "print(np.round(A@B, 2))\n",
        "#print(np.round(A@C, 2)) - cannot matrix multiply!"
      ],
      "metadata": {
        "colab": {
          "base_uri": "https://localhost:8080/"
        },
        "id": "DY3zorpQktL0",
        "outputId": "20439333-07f8-4bb3-f39f-b6ac0530e18c"
      },
      "execution_count": 8,
      "outputs": [
        {
          "output_type": "stream",
          "name": "stdout",
          "text": [
            "[[-0.05  0.12  1.99 -0.51 -2.04]\n",
            " [ 3.8  -1.28 -2.2  -3.65 -1.09]\n",
            " [ 2.89 -2.04 -1.75 -2.62  0.2 ]]\n"
          ]
        }
      ]
    },
    {
      "cell_type": "code",
      "source": [],
      "metadata": {
        "id": "iuJB7sbRlhFA"
      },
      "execution_count": null,
      "outputs": []
    }
  ]
}