{
  "nbformat": 4,
  "nbformat_minor": 0,
  "metadata": {
    "colab": {
      "provenance": [],
      "authorship_tag": "ABX9TyOqyC2zCiX62tCW0SaRUAve",
      "include_colab_link": true
    },
    "kernelspec": {
      "name": "python3",
      "display_name": "Python 3"
    },
    "language_info": {
      "name": "python"
    }
  },
  "cells": [
    {
      "cell_type": "markdown",
      "metadata": {
        "id": "view-in-github",
        "colab_type": "text"
      },
      "source": [
        "<a href=\"https://colab.research.google.com/github/DatPhatCoder/colab_playground/blob/main/dot_product.ipynb\" target=\"_parent\"><img src=\"https://colab.research.google.com/assets/colab-badge.svg\" alt=\"Open In Colab\"/></a>"
      ]
    },
    {
      "cell_type": "code",
      "execution_count": 1,
      "metadata": {
        "id": "6ULh0dkRetJd"
      },
      "outputs": [],
      "source": [
        "#import libraries\n",
        "import numpy as np\n",
        "import torch"
      ]
    },
    {
      "cell_type": "code",
      "source": [
        "#dot product using numpy\n",
        "\n",
        "#create a vector\n",
        "nv1 = np.array([1,2,3,4])\n",
        "nv2 = np.array([0,1,0,-1])\n",
        "\n",
        "#dot product via a function\n",
        "print(np.dot(nv1,nv2))\n",
        "\n",
        "#dot product via compuation\n",
        "print(np.sum(nv1*nv2))"
      ],
      "metadata": {
        "colab": {
          "base_uri": "https://localhost:8080/"
        },
        "id": "Fg1w4chMexGt",
        "outputId": "fa949100-5492-4497-80a8-6f13284de2a8"
      },
      "execution_count": 2,
      "outputs": [
        {
          "output_type": "stream",
          "name": "stdout",
          "text": [
            "-2\n",
            "-2\n"
          ]
        }
      ]
    },
    {
      "cell_type": "code",
      "source": [
        "#dot product using pytorch\n",
        "\n",
        "#create a vector\n",
        "tv1 = torch.tensor([1,2,3,4])\n",
        "tv2 = torch.tensor([0,1,0,-1])\n",
        "\n",
        "#dot product via a function\n",
        "print(torch.dot(tv1,tv2))\n",
        "\n",
        "#dot product via a computation\n",
        "print(torch.sum(tv1*tv2))"
      ],
      "metadata": {
        "colab": {
          "base_uri": "https://localhost:8080/"
        },
        "id": "5l6syNL7fNNb",
        "outputId": "845c204c-5867-4131-a4a5-97d42a38d7ae"
      },
      "execution_count": 5,
      "outputs": [
        {
          "output_type": "stream",
          "name": "stdout",
          "text": [
            "tensor(-2)\n",
            "tensor(-2)\n"
          ]
        }
      ]
    },
    {
      "cell_type": "code",
      "source": [],
      "metadata": {
        "id": "FXRjpiGLfdxw"
      },
      "execution_count": null,
      "outputs": []
    }
  ]
}