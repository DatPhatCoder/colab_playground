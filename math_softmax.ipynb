{
  "nbformat": 4,
  "nbformat_minor": 0,
  "metadata": {
    "colab": {
      "provenance": [],
      "authorship_tag": "ABX9TyPaagfUboAz20aE+cMo48h5",
      "include_colab_link": true
    },
    "kernelspec": {
      "name": "python3",
      "display_name": "Python 3"
    },
    "language_info": {
      "name": "python"
    }
  },
  "cells": [
    {
      "cell_type": "markdown",
      "metadata": {
        "id": "view-in-github",
        "colab_type": "text"
      },
      "source": [
        "<a href=\"https://colab.research.google.com/github/DatPhatCoder/colab_playground/blob/main/math_softmax.ipynb\" target=\"_parent\"><img src=\"https://colab.research.google.com/assets/colab-badge.svg\" alt=\"Open In Colab\"/></a>"
      ]
    },
    {
      "cell_type": "code",
      "execution_count": 1,
      "metadata": {
        "id": "U9xxbzLZxACH"
      },
      "outputs": [],
      "source": [
        "#import libraries\n",
        "import numpy as np\n",
        "import torch\n",
        "import torch.nn as nn\n",
        "import matplotlib.pyplot as plt"
      ]
    },
    {
      "cell_type": "code",
      "source": [
        "# \"manually\" in numpy\n",
        "\n",
        "#the list of numbers\n",
        "z = [1,2,3]\n",
        "\n",
        "#compute the softmax result\n",
        "numer = np.exp(z)\n",
        "denom = np.sum(np.exp(z))\n",
        "sigma = numer / denom\n",
        "\n",
        "print(sigma)\n",
        "print(np.sum(sigma))"
      ],
      "metadata": {
        "colab": {
          "base_uri": "https://localhost:8080/"
        },
        "id": "tOgNtlGLxKSY",
        "outputId": "6031a085-607d-49df-cf8c-869752fee3c8"
      },
      "execution_count": 4,
      "outputs": [
        {
          "output_type": "stream",
          "name": "stdout",
          "text": [
            "[0.09003057 0.24472847 0.66524096]\n",
            "1.0\n"
          ]
        }
      ]
    },
    {
      "cell_type": "code",
      "source": [
        "#using numpy\n",
        "\n",
        "#repeat with some random integers\n",
        "z = np.random.randint(-5, high=15, size=25)\n",
        "print(z)\n",
        "\n",
        "#compute the softmax result\n",
        "numer = np.exp(z)\n",
        "denom = np.sum(numer)\n",
        "sigma = numer / denom\n",
        "\n",
        "#compare\n",
        "plt.plot(z, sigma, 'ko')\n",
        "plt.xlabel('Original number (z)')\n",
        "plt.ylabel('Softmaxified $\\sigma$')\n",
        "#plt.yscale('log')\n",
        "plt.title('$\\sum\\sigma$ = %g' %np.sum(sigma))\n",
        "plt.show()\n"
      ],
      "metadata": {
        "colab": {
          "base_uri": "https://localhost:8080/",
          "height": 514
        },
        "id": "trVyawsOyzdd",
        "outputId": "e86cd19c-b7f4-4496-fb2a-876d7abd474d"
      },
      "execution_count": 3,
      "outputs": [
        {
          "output_type": "stream",
          "name": "stdout",
          "text": [
            "[-2 -2 -5 13 12 13 11  9 -5  0 -2  7  0  1 10 12  5  2 -2 11 -4  3  8 13\n",
            "  5]\n"
          ]
        },
        {
          "output_type": "display_data",
          "data": {
            "text/plain": [
              "<Figure size 640x480 with 1 Axes>"
            ],
            "image/png": "[encoded data removed]"
          },
          "metadata": {}
        }
      ]
    },
    {
      "cell_type": "code",
      "source": [
        "#using pytorch\n",
        "\n",
        "#slightly more involved using torch.nn\n",
        "\n",
        "#create an instance of the softmax activation class\n",
        "softfun = nn.Softmax(dim=0)\n",
        "\n",
        "#then apply the data to that function\n",
        "sigmaT = softfun(torch.Tensor(z))\n",
        "\n",
        "#now we get the results\n",
        "print(sigmaT)\n"
      ],
      "metadata": {
        "colab": {
          "base_uri": "https://localhost:8080/"
        },
        "id": "ntWlFqpZegE-",
        "outputId": "a2bb94a8-e19d-44cf-f9df-4a906437d497"
      },
      "execution_count": 7,
      "outputs": [
        {
          "output_type": "stream",
          "name": "stdout",
          "text": [
            "tensor([0.0900, 0.2447, 0.6652])\n"
          ]
        }
      ]
    },
    {
      "cell_type": "code",
      "source": [],
      "metadata": {
        "id": "bBr-_qODfxfJ"
      },
      "execution_count": null,
      "outputs": []
    }
  ]
}